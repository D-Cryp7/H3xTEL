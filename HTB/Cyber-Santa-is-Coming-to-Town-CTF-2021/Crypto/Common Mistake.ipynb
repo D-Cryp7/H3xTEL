{
 "cells": [
  {
   "cell_type": "markdown",
   "metadata": {},
   "source": [
    "# Common Mistake (Writeup)\n",
    "###### _Categoría: Crypto_\n",
    "###### _by: Danex_\n",
    "###### _Dificultad: Fácil_\n",
    "###### _Enunciado:_  \n",
    "Elves are trying very hard to communicate in perfect secrecy in order to keep Santa's warehouse. Unfortunately, their lack of knowledge about cryptography leads them to common mistakes.\n",
    "###### _Descarga los archivos en el repositorio oficial de H3xTEL [aquí](https://github.com/D-Cryp7/H3xTEL)_ :D"
   ]
  },
  {
   "cell_type": "markdown",
   "metadata": {},
   "source": [
    "A través del archivo `encrypted.txt` nos damos cuenta de que se utilizaron 2 llaves públicas $(n, e_1)$ y $(n, e_2)$ para cifrar mensajes. Un error común (_common mistake_) es que el mismo mensaje $m$ se cifre utilizando el mismo módulo $n$ pero con exponentes públicos $e$ distintos. Este comportamiento no es anormal, ya que una falla en la transmisión de un paquete puede causar que se reenvíe, pero con la mala práctica de que se reutilice el módulo $n$, esto debido a que podemos recuperar el mensaje original $m$ de la siguiente forma:\n",
    "* Primer mensaje cifrado:\n",
    "\\begin{equation}\n",
    "    c_1 \\equiv m ^ {e_1} \\text{ mod } n\n",
    "\\end{equation}\n",
    "* Segundo mensaje cifrado:\n",
    "\\begin{equation}\n",
    "    c_2 \\equiv m ^ {e_2} \\text{ mod } n\n",
    "\\end{equation}\n",
    "* El _common modulus attack_ consiste en multiplicar ambos mensajes cifrados, pero de una forma ingeniosa. Para ello, se debe cumplir que\n",
    "\\begin{equation}\n",
    "    \\text{gcd}(e_1, e_2) = 1 \\implies s \\cdot e_1 + t \\cdot e_2 = 1\n",
    "\\end{equation}\n",
    "es decir, que el máximo común divisor (_great common divisor_) sea igual a 1, o que es lo mismo, que $e_1$ y $e_2$ sea coprimos. Así, multiplicamos los 2 mensajes cifrados de la siguiente manera:\n",
    "\\begin{equation}\n",
    "    c_{1}^{s} \\cdot c_{2}^{t} \\equiv m ^ {s \\cdot e_1 + t \\cdot e_2} \\text{ mod } n\n",
    "\\end{equation}\n",
    "y por la propiedad anterior\n",
    "\\begin{equation}\n",
    "    c_{1}^{s} \\cdot c_{2}^{t} \\equiv m ^ {1} = m \\text{ mod } n\n",
    "\\end{equation}\n",
    "* Así pues, vamos a asumir que esto se puede realizar, y lo vamos a probar para obtener la _flag_"
   ]
  },
  {
   "cell_type": "code",
   "execution_count": 4,
   "metadata": {},
   "outputs": [],
   "source": [
    "# leer encrypted.txt\n",
    "\n",
    "import ast\n",
    "from Crypto.Util.number import bytes_to_long, long_to_bytes\n",
    "import math\n",
    "f = open('encrypted.txt', 'r').read().split(\"\\n\")\n",
    "enc1 = ast.literal_eval(f[0])\n",
    "enc2 = ast.literal_eval(f[1])\n",
    "for key, value in enc1.items():\n",
    "    if key == 'e':\n",
    "        enc1[key] = int(enc1[key][2:], 16)\n",
    "        enc2[key] = int(enc2[key][2:], 16)\n",
    "    else:\n",
    "        enc1[key] = bytes_to_long(bytes.fromhex(enc1[key][2:]))\n",
    "        enc2[key] = bytes_to_long(bytes.fromhex(enc2[key][2:]))"
   ]
  },
  {
   "cell_type": "code",
   "execution_count": 5,
   "metadata": {},
   "outputs": [
    {
     "data": {
      "text/plain": [
       "1"
      ]
     },
     "execution_count": 5,
     "metadata": {},
     "output_type": "execute_result"
    }
   ],
   "source": [
    "# comprobar que s y t son coprimos\n",
    "# los valores de s y t se obtienen a través del Extended Euclidean Algorithm\n",
    "\n",
    "def eea(r0,r1):\n",
    "    if r0 == 0:\n",
    "        return (r1, 0, 1)\n",
    "    else:\n",
    "        g, s, t = eea(r1 % r0, r0)\n",
    "        return (g, t - (r1 // r0) * s, s)\n",
    "g, s1, s2 = eea(enc1['e'], enc2['e'])\n",
    "enc1['e']*s1 + enc2['e']*s2"
   ]
  },
  {
   "cell_type": "code",
   "execution_count": 7,
   "metadata": {},
   "outputs": [
    {
     "data": {
      "text/plain": [
       "b'HTB{c0mm0n_m0d_4774ck_15_4n07h3r_cl4ss1c}'"
      ]
     },
     "execution_count": 7,
     "metadata": {},
     "output_type": "execute_result"
    }
   ],
   "source": [
    "# Se obtiene la flag\n",
    "\n",
    "m = (pow(enc1['ct'], s1, enc1['n']) * pow(enc2['ct'], s2, enc2['n'])) % enc1['n']\n",
    "flag = long_to_bytes(m)\n",
    "flag"
   ]
  },
  {
   "cell_type": "markdown",
   "metadata": {},
   "source": [
    "ref: https://crypto.stackexchange.com/questions/16283/how-to-use-common-modulus-attack"
   ]
  }
 ],
 "metadata": {
  "kernelspec": {
   "display_name": "Python 3.8.5 64-bit ('base': conda)",
   "language": "python",
   "name": "python385jvsc74a57bd0fb698bdeab99cfbf9e31cab566d99a06e057f2dec3dcc8097ebabb329e860e16"
  },
  "language_info": {
   "codemirror_mode": {
    "name": "ipython",
    "version": 3
   },
   "file_extension": ".py",
   "mimetype": "text/x-python",
   "name": "python",
   "nbconvert_exporter": "python",
   "pygments_lexer": "ipython3",
   "version": "3.8.5"
  }
 },
 "nbformat": 4,
 "nbformat_minor": 4
}
