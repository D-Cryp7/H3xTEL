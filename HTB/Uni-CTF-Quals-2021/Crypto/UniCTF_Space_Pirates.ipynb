{
 "cells": [
  {
   "cell_type": "markdown",
   "metadata": {
    "id": "3OIiGibdc9cV"
   },
   "source": [
    "# Space Pirates (Writeup)\n",
    "###### _Categoría: Crypto_\n",
    "###### _by: Danex_\n",
    "###### _350 pts._\n",
    "###### _Descarga los archivos [aquí](https://drive.google.com/file/d/1qScyu3OvYbqB8HPBtgICfNXxgNmu2Xkp/view?usp=sharing)_"
   ]
  },
  {
   "cell_type": "markdown",
   "metadata": {
    "id": "BsgFMicNc4P6"
   },
   "source": [
    "Analizando el código, la función `create_pol(self)` realiza lo siguiente:\n",
    "* Considerando que inicialmente `coeffs = [secret]`, se calculan los siguientes coeficientes del Shamir Secret Sharing (SSS) de la siguiente manera (no es necesario saber al detalle lo que hace el SSS, con el código tenemos suficiente para evidenciar el ataque): `coeffs[i] = md5(coeffs[i - 1])`\n",
    "* Luego, se toman los $k$ primeros valores de `coeffs`\n",
    "* Se generan las listas `x_vals` e `y_vals` de la siguiente manera:\n",
    "    - `x_vals[i] = x`, donde `x` es un número aleatorio entre $1$ y $p - 1$\n",
    "    - `y_vals[i]` $= \\sum_{i = 0}^{k - 1}$ `coeffs[i]` $\\cdot x ^ i$ mod $p$\n",
    "\n",
    "Nuestro objetivo es obtener la variable `secret`, sabemos que está dentro de `coeffs`, pero los datos que nos entregan sobre el secreto compartido son: `x_vals[0]`, `y_vals[0]`, $p$, $k$, $n$ y `coeffs[1]`. Comencemos con la definición de `y_vals[0]` (llamémoslo desde ahora $y$):\n",
    "\\begin{equation}\n",
    "y \\equiv \\sum_{i = 0}^{k - 1} c_i \\cdot x^i \\text{ mod } p\n",
    "\\end{equation}\n",
    "donde $c_i = $ `coeffs[i]`. Desarrollando, se tiene (con $k = 10$):\n",
    "\\begin{equation}\n",
    "y \\equiv c_0 + c_1x + c_2x^2 + \\ldots + c_9x^9 \\text{ mod } p\n",
    "\\end{equation}\n",
    "sabemos que $c_0 = $ `secret` y $c_i = \\text{md5}(c_{i - 1})$. Además, pero tenemos los valores de $y$, $c_1$, $x$ y $p$. De esta forma, podemos despejar $c_0$ de la siguiente manera:\n",
    "\\begin{equation}\n",
    "c_0 \\equiv y - c_1x - \\text{md5}(c_{1})x^2 - \\ldots - \\text{md5}(c_{8})x^9 \\text{ mod } p\n",
    "\\end{equation}\n",
    "donde el código que automatiza este proceso se encuentra a continuación:"
   ]
  },
  {
   "cell_type": "code",
   "execution_count": null,
   "metadata": {
    "colab": {
     "base_uri": "https://localhost:8080/"
    },
    "id": "FwdajKudc2fx",
    "outputId": "466be398-6e8f-4f31-9969-9f013a920b98"
   },
   "outputs": [
    {
     "data": {
      "text/plain": [
       "39612257993477957104"
      ]
     },
     "execution_count": 1,
     "metadata": {},
     "output_type": "execute_result"
    }
   ],
   "source": [
    "from hashlib import md5\n",
    "y = 11086299714260406068\n",
    "x = 21202245407317581090\n",
    "coeff = 93526756371754197321930622219489764824\n",
    "p = 92434467187580489687\n",
    "k = 10\n",
    "n = 18\n",
    "\n",
    "def next_coeff(val):\n",
    "    return int(md5(val.to_bytes(32, byteorder=\"big\")).hexdigest(),16)\n",
    "coeffs = [coeff]\n",
    "for i in range(1, k - 1):\n",
    "    coeffs.append(next_coeff(coeffs[i - 1]))\n",
    "\n",
    "res = y\n",
    "for i in range(len(coeffs)):\n",
    "    res -= (coeffs[i] * x ** (i + 1)) % p\n",
    "secret = res % p\n",
    "secret"
   ]
  },
  {
   "cell_type": "markdown",
   "metadata": {
    "id": "tSxu-G0nf6WP"
   },
   "source": [
    "Al obtener el `secret = 39612257993477957104`, queda ingresarlo en un cifrado (a través de una `seed`) AES-ECB para obtener la flag."
   ]
  },
  {
   "cell_type": "markdown",
   "metadata": {
    "id": "UKiQ71p_gBYZ"
   },
   "source": [
    "_Ojito: antes de ejecutar el siguiente código, se requiere la descarga de algunas bibliotecas. Además, se requiere de Python 3.9 para utilizar la función `randbytes`, así que adjunto además el código [aquí](https://drive.google.com/file/d/1cV6YLTnIWQKmCzIJYKgIpo0NMmRKs6Rx/view?usp=sharing) (porque Colab usa el 3.6), la idea de este notebook es poder aprovechar el markdown para explicar los detalles del challenge_."
   ]
  },
  {
   "cell_type": "code",
   "execution_count": null,
   "metadata": {
    "id": "VDa54EmlgN3D"
   },
   "outputs": [],
   "source": [
    "pip install pycryptodome"
   ]
  },
  {
   "cell_type": "code",
   "execution_count": null,
   "metadata": {
    "id": "vL-108Bhf3ox"
   },
   "outputs": [],
   "source": [
    "from Crypto.Cipher import AES\n",
    "from Crypto.Util.Padding import pad, unpad\n",
    "from random import randbytes, seed\n",
    "\n",
    "enc_flag = '1aaad05f3f187bcbb3fb5c9e233ea339082062fc10a59604d96bcc38d0af92cd842ad7301b5b72bd5378265dae0bc1c1e9f09a90c97b35cfadbcfe259021ce495e9b91d29f563ae7d49b66296f15e7999c9e547fac6f1a2ee682579143da511475ea791d24b5df6affb33147d57718eaa5b1b578230d97f395c458fc2c9c36525db1ba7b1097ad8f5df079994b383b32695ed9a372ea9a0eb1c6c18b3d3d43bd2db598667ef4f80845424d6c75abc88b59ef7c119d505cd696ed01c65f374a0df3f331d7347052faab63f76f587400b6a6f8b718df1db9cebe46a4ec6529bc226627d39baca7716a4c11be6f884c371b08d87c9e432af58c030382b737b9bb63045268a18455b9f1c4011a984a818a5427231320ee7eca39bdfe175333341b7c'\n",
    "seed(secret)\n",
    "key = randbytes(16)\n",
    "cipher = AES.new(key, AES.MODE_ECB)\n",
    "flag = unpad(cipher.decrypt(bytes.fromhex(enc_flag)), 16)"
   ]
  },
  {
   "cell_type": "markdown",
   "metadata": {
    "id": "WHS3Xk6xqdkV"
   },
   "source": [
    "donde se obtiene:  \n",
    "`b'The treasure is located at galaxy VS-708.\\nOur team needs 3 light years to reach it.\\nOur solar cruise has its steam canons ready to fire in case we encounter enemies.\\nNext time you will hear from us brother, everyone is going to be rich!\\nHTB{1_d1dnt_kn0w_0n3_sh4r3_w45_3n0u9h!1337}'`\n"
   ]
  }
 ],
 "metadata": {
  "colab": {
   "collapsed_sections": [],
   "name": "UniCTF - Space Pirates.ipynb",
   "provenance": []
  },
  "kernelspec": {
   "display_name": "Python 3",
   "language": "python",
   "name": "python3"
  },
  "language_info": {
   "codemirror_mode": {
    "name": "ipython",
    "version": 3
   },
   "file_extension": ".py",
   "mimetype": "text/x-python",
   "name": "python",
   "nbconvert_exporter": "python",
   "pygments_lexer": "ipython3",
   "version": "3.8.5"
  }
 },
 "nbformat": 4,
 "nbformat_minor": 1
}
